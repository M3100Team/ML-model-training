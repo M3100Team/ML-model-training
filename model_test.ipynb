{
 "cells": [
  {
   "cell_type": "code",
   "execution_count": 88,
   "id": "8c7c5dbe",
   "metadata": {},
   "outputs": [],
   "source": [
    "import os\n",
    "from tensorflow.keras.models import load_model\n",
    "import numpy as np\n",
    "from PIL import Image\n",
    "import sklearn.metrics as metrics\n",
    "import matplotlib.pyplot as plt"
   ]
  },
  {
   "cell_type": "code",
   "execution_count": 42,
   "id": "a4349bfb",
   "metadata": {},
   "outputs": [],
   "source": [
    "model = load_model('model_1.1.h5')"
   ]
  },
  {
   "cell_type": "code",
   "execution_count": 52,
   "id": "ccfec9db",
   "metadata": {},
   "outputs": [],
   "source": [
    "def check(y):\n",
    "    global y_pred, y_true, model\n",
    "    for i in os.listdir():\n",
    "        img = Image.open(i)\n",
    "        img = img.convert('RGB')\n",
    "        img = img.resize((200, 200))\n",
    "        arr = np.asarray(img, dtype='uint8')\n",
    "        k = np.array([[[0.2989, 0.587, 0.114]]])\n",
    "        sums = np.round(np.sum(arr*k, axis=2)).astype(np.uint8)\n",
    "        sums = sums.reshape((1, 40000))\n",
    "        sums = sums.reshape(1, 200, 200)\n",
    "        y_pred = np.append(y_pred, model.predict(sums)[0][0])\n",
    "        y_true = np.append(y_true, y)\n",
    "        \n",
    "y_pred = np.array([])\n",
    "y_true = np.array([])\n",
    "os.chdir('test_false_hard')\n",
    "check(0)\n",
    "os.chdir('..')\n",
    "os.chdir('test_false_easy')\n",
    "check(0)\n",
    "os.chdir('..')\n",
    "os.chdir('test_true')\n",
    "check(1)\n",
    "os.chdir('..')"
   ]
  },
  {
   "cell_type": "code",
   "execution_count": 95,
   "id": "49354709",
   "metadata": {},
   "outputs": [
    {
     "data": {
      "image/png": "[encoded data removed]",
      "text/plain": [
       "<Figure size 432x288 with 1 Axes>"
      ]
     },
     "metadata": {
      "needs_background": "light"
     },
     "output_type": "display_data"
    }
   ],
   "source": [
    "fper, tper, thresholds = metrics.roc_curve(y_true, y_pred)\n",
    "plt.plot(fper, tper, color='red', label='ROC')\n",
    "plt.plot([0, 1], [0, 1], color='green', linestyle='--')\n",
    "plt.xlabel('False Positive Rate')\n",
    "plt.ylabel('True Positive Rate')\n",
    "plt.title('Receiver Operating Characteristic Curve')\n",
    "plt.legend()\n",
    "plt.show()"
   ]
  },
  {
   "cell_type": "code",
   "execution_count": 96,
   "id": "42746ac1",
   "metadata": {},
   "outputs": [
    {
     "data": {
      "text/plain": [
       "0.9865914905714015"
      ]
     },
     "execution_count": 96,
     "metadata": {},
     "output_type": "execute_result"
    }
   ],
   "source": [
    "metrics.roc_auc_score(y_true, y_pred)"
   ]
  },
  {
   "cell_type": "code",
   "execution_count": null,
   "id": "fb1d203e",
   "metadata": {},
   "outputs": [],
   "source": []
  }
 ],
 "metadata": {
  "kernelspec": {
   "display_name": "Python 3",
   "language": "python",
   "name": "python3"
  },
  "language_info": {
   "codemirror_mode": {
    "name": "ipython",
    "version": 3
   },
   "file_extension": ".py",
   "mimetype": "text/x-python",
   "name": "python",
   "nbconvert_exporter": "python",
   "pygments_lexer": "ipython3",
   "version": "3.8.8"
  }
 },
 "nbformat": 4,
 "nbformat_minor": 5
}
