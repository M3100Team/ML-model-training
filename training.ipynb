{
 "cells": [
  {
   "cell_type": "code",
   "execution_count": 1,
   "id": "2be1df72",
   "metadata": {},
   "outputs": [],
   "source": [
    "import numpy as np\n",
    "import matplotlib.pyplot as plt\n",
    "from PIL import Image\n",
    "import os\n",
    "from tensorflow.keras.preprocessing.image import ImageDataGenerator\n",
    "from tensorflow.keras import layers, models, optimizers"
   ]
  },
  {
   "cell_type": "markdown",
   "id": "487d11ba",
   "metadata": {},
   "source": [
    "# Векторизируем сгенерированные изображения. Будем сжимать их до размера (200, 200) и чернобелого цвета:"
   ]
  },
  {
   "cell_type": "code",
   "execution_count": 2,
   "id": "2b880f46",
   "metadata": {},
   "outputs": [],
   "source": [
    "os.chdir('dataset_false')\n",
    "for i in os.listdir():\n",
    "    img = Image.open(i)\n",
    "    img = img.resize((200, 200))\n",
    "    arr = np.asarray(img, dtype='uint8')\n",
    "    k = np.array([[[0.2989, 0.587, 0.114]]])\n",
    "    sums = np.round(np.sum(arr*k, axis=2)).astype(np.uint8)\n",
    "    sums = sums.reshape((1, 200, 200))\n",
    "    if i != 'im0.png':\n",
    "        data_false = np.append(data_false, sums, axis=0)\n",
    "    else:\n",
    "        data_false = np.array(sums)\n",
    "os.chdir('..')"
   ]
  },
  {
   "cell_type": "code",
   "execution_count": 3,
   "id": "52a29dc7",
   "metadata": {},
   "outputs": [
    {
     "data": {
      "text/plain": [
       "(4999, 200, 200)"
      ]
     },
     "execution_count": 3,
     "metadata": {},
     "output_type": "execute_result"
    }
   ],
   "source": [
    "data_false.shape"
   ]
  },
  {
   "cell_type": "code",
   "execution_count": 4,
   "id": "8cc59bca",
   "metadata": {},
   "outputs": [],
   "source": [
    "os.chdir('dataset_true')\n",
    "for i in os.listdir():\n",
    "    img = Image.open(i)\n",
    "    img = img.resize((200, 200))\n",
    "    arr = np.asarray(img, dtype='uint8')\n",
    "    k = np.array([[[0.2989, 0.587, 0.114]]])\n",
    "    sums = np.round(np.sum(arr*k, axis=2)).astype(np.uint8)\n",
    "    sums = sums.reshape((1, 200, 200))\n",
    "    if i != '0.png':\n",
    "        data_true = np.append(data_true, sums, axis=0)\n",
    "    else:\n",
    "        data_true = np.array(sums)\n",
    "os.chdir('..')"
   ]
  },
  {
   "cell_type": "code",
   "execution_count": 5,
   "id": "c4920734",
   "metadata": {},
   "outputs": [
    {
     "data": {
      "text/plain": [
       "(5000, 200, 200)"
      ]
     },
     "execution_count": 5,
     "metadata": {},
     "output_type": "execute_result"
    }
   ],
   "source": [
    "data_true.shape"
   ]
  },
  {
   "cell_type": "markdown",
   "id": "669f9c5c",
   "metadata": {},
   "source": [
    "# Смёрджим, разметим и перемешаем данные:"
   ]
  },
  {
   "cell_type": "code",
   "execution_count": 6,
   "id": "724dab72",
   "metadata": {},
   "outputs": [],
   "source": [
    "data_x_train = np.concatenate((data_false[:4000], data_true[:4000]))\n",
    "data_x_test = np.concatenate((data_false[4000:], data_true[4000:]))\n",
    "data_y_train = np.concatenate((np.zeros(4000), np.ones(4000))).astype('int32')\n",
    "data_y_test = np.concatenate((np.zeros(999), np.ones(1000))).astype('int32')"
   ]
  },
  {
   "cell_type": "code",
   "execution_count": 7,
   "id": "96b5f52d",
   "metadata": {},
   "outputs": [],
   "source": [
    "all_data_train = np.concatenate((data_x_train.reshape(8000, 40000), data_y_train.reshape(8000, 1)), axis=1)\n",
    "all_data_test = np.concatenate((data_x_test.reshape(1999, 40000), data_y_test.reshape(1999, 1)), axis=1)"
   ]
  },
  {
   "cell_type": "code",
   "execution_count": 8,
   "id": "0f0e9594",
   "metadata": {},
   "outputs": [],
   "source": [
    "np.random.shuffle(all_data_train)\n",
    "np.random.shuffle(all_data_test)"
   ]
  },
  {
   "cell_type": "code",
   "execution_count": 9,
   "id": "c6ec3b7e",
   "metadata": {},
   "outputs": [],
   "source": [
    "data_x_train = all_data_train[:, :-1].reshape(8000, 200, 200)\n",
    "data_y_train = all_data_train[:, -1]\n",
    "data_x_test = all_data_test[:, :-1].reshape(1999, 200, 200)\n",
    "data_y_test = all_data_test[:, -1]"
   ]
  },
  {
   "cell_type": "code",
   "execution_count": 10,
   "id": "d7fb1c14",
   "metadata": {},
   "outputs": [
    {
     "data": {
      "text/plain": [
       "(8000, 200, 200)"
      ]
     },
     "execution_count": 10,
     "metadata": {},
     "output_type": "execute_result"
    }
   ],
   "source": [
    "data_x_train.shape"
   ]
  },
  {
   "cell_type": "markdown",
   "id": "f9bc46c5",
   "metadata": {},
   "source": [
    "# Модель:"
   ]
  },
  {
   "cell_type": "code",
   "execution_count": 11,
   "id": "36c3d2b8",
   "metadata": {},
   "outputs": [],
   "source": [
    "model = models.Sequential()\n",
    "model.add(layers.Conv2D(32, (3, 3), activation='relu', input_shape=(200, 200, 1)))\n",
    "model.add(layers.MaxPooling2D((2, 2)))\n",
    "model.add(layers.Conv2D(64, (3, 3), activation='relu'))\n",
    "model.add(layers.MaxPooling2D((2, 2)))\n",
    "model.add(layers.Conv2D(128, (3, 3), activation='relu'))\n",
    "model.add(layers.MaxPooling2D((2, 2)))\n",
    "model.add(layers.Flatten())\n",
    "model.add(layers.Dense(512, activation='relu'))\n",
    "model.add(layers.Dense(1, activation='sigmoid'))\n",
    "model.compile(loss='binary_crossentropy', optimizer=optimizers.RMSprop(learning_rate=0.0001), metrics=['acc'])"
   ]
  },
  {
   "cell_type": "markdown",
   "id": "f7bf24e8",
   "metadata": {},
   "source": [
    "# Обучение:"
   ]
  },
  {
   "cell_type": "code",
   "execution_count": 12,
   "id": "c847a9ab",
   "metadata": {},
   "outputs": [
    {
     "name": "stdout",
     "output_type": "stream",
     "text": [
      "Epoch 1/5\n",
      "50/50 [==============================] - 328s 6s/step - loss: 31.4190 - acc: 0.6367 - val_loss: 2.5206 - val_acc: 0.4997\n",
      "Epoch 2/5\n",
      "50/50 [==============================] - 332s 7s/step - loss: 0.7718 - acc: 0.7670 - val_loss: 0.3625 - val_acc: 0.9385\n",
      "Epoch 3/5\n",
      "50/50 [==============================] - 331s 7s/step - loss: 0.4900 - acc: 0.8519 - val_loss: 0.3698 - val_acc: 0.9950\n",
      "Epoch 4/5\n",
      "50/50 [==============================] - 334s 7s/step - loss: 0.5420 - acc: 0.7719 - val_loss: 0.3558 - val_acc: 0.6448\n",
      "Epoch 5/5\n",
      "50/50 [==============================] - 332s 7s/step - loss: 0.2085 - acc: 0.9009 - val_loss: 0.0035 - val_acc: 0.9990\n"
     ]
    }
   ],
   "source": [
    "history = model.fit(data_x_train, data_y_train, epochs=5, validation_data=(data_x_test, data_y_test), steps_per_epoch=50)"
   ]
  },
  {
   "cell_type": "code",
   "execution_count": 15,
   "id": "1914658b",
   "metadata": {},
   "outputs": [
    {
     "data": {
      "image/png": "[encoded data removed]",
      "text/plain": [
       "<Figure size 432x288 with 1 Axes>"
      ]
     },
     "metadata": {
      "needs_background": "light"
     },
     "output_type": "display_data"
    }
   ],
   "source": [
    "plt.plot(range(1, 6), history.history['acc'], 'bo', label='Train acc')\n",
    "plt.plot(range(1, 6), history.history['val_acc'], 'b', label='Test acc')\n",
    "plt.xlabel('Эпоха')\n",
    "plt.ylabel('acc')\n",
    "plt.legend()\n",
    "plt.show()"
   ]
  },
  {
   "cell_type": "markdown",
   "id": "4c044054",
   "metadata": {},
   "source": [
    "# Так как модель не может достигнуть высокого результата на тренировочных данных, добавим еще один свёрточный слой. Пока что проигнорируем странное поведение результатов на тестовых данных."
   ]
  },
  {
   "cell_type": "code",
   "execution_count": 16,
   "id": "c0df511b",
   "metadata": {},
   "outputs": [],
   "source": [
    "model = models.Sequential()\n",
    "model.add(layers.Conv2D(32, (3, 3), activation='relu', input_shape=(200, 200, 1)))\n",
    "model.add(layers.MaxPooling2D((2, 2)))\n",
    "model.add(layers.Conv2D(64, (3, 3), activation='relu'))\n",
    "model.add(layers.MaxPooling2D((2, 2)))\n",
    "model.add(layers.Conv2D(128, (3, 3), activation='relu'))\n",
    "model.add(layers.MaxPooling2D((2, 2)))\n",
    "model.add(layers.Conv2D(128, (3, 3), activation='relu'))\n",
    "model.add(layers.MaxPooling2D((2, 2)))\n",
    "model.add(layers.Flatten())\n",
    "model.add(layers.Dense(512, activation='relu'))\n",
    "model.add(layers.Dense(1, activation='sigmoid'))\n",
    "model.compile(loss='binary_crossentropy', optimizer=optimizers.RMSprop(learning_rate=0.0001), metrics=['acc'])"
   ]
  },
  {
   "cell_type": "code",
   "execution_count": 17,
   "id": "74edd9b0",
   "metadata": {},
   "outputs": [
    {
     "name": "stdout",
     "output_type": "stream",
     "text": [
      "Epoch 1/10\n",
      "30/30 [==============================] - 351s 11s/step - loss: 6.3345 - acc: 0.8564 - val_loss: 0.0290 - val_acc: 0.9870\n",
      "Epoch 2/10\n",
      "30/30 [==============================] - 388s 13s/step - loss: 0.7465 - acc: 0.9131 - val_loss: 0.0939 - val_acc: 0.9640\n",
      "Epoch 3/10\n",
      "30/30 [==============================] - 378s 13s/step - loss: 0.3855 - acc: 0.9234 - val_loss: 0.0145 - val_acc: 0.9955\n",
      "Epoch 4/10\n",
      "30/30 [==============================] - 373s 12s/step - loss: 0.1620 - acc: 0.9699 - val_loss: 0.0132 - val_acc: 0.9945\n",
      "Epoch 5/10\n",
      "30/30 [==============================] - 373s 12s/step - loss: 0.0129 - acc: 0.9962 - val_loss: 0.0051 - val_acc: 0.9980\n",
      "Epoch 6/10\n",
      "30/30 [==============================] - 365s 12s/step - loss: 0.2857 - acc: 0.9601 - val_loss: 0.0080 - val_acc: 0.9965\n",
      "Epoch 7/10\n",
      "30/30 [==============================] - 421s 14s/step - loss: 0.0442 - acc: 0.9915 - val_loss: 0.0067 - val_acc: 0.9995\n",
      "Epoch 8/10\n",
      "30/30 [==============================] - 438s 15s/step - loss: 0.2319 - acc: 0.9726 - val_loss: 0.0093 - val_acc: 0.9965\n",
      "Epoch 9/10\n",
      "30/30 [==============================] - 381s 13s/step - loss: 0.0955 - acc: 0.9810 - val_loss: 0.0038 - val_acc: 0.9990\n",
      "Epoch 10/10\n",
      "30/30 [==============================] - 396s 13s/step - loss: 0.0115 - acc: 0.9970 - val_loss: 0.0157 - val_acc: 0.9975\n"
     ]
    }
   ],
   "source": [
    "history = model.fit(data_x_train, data_y_train, epochs=10, validation_data=(data_x_test, data_y_test), steps_per_epoch=30)"
   ]
  },
  {
   "cell_type": "code",
   "execution_count": 19,
   "id": "7351b11b",
   "metadata": {},
   "outputs": [
    {
     "data": {
      "image/png": "[encoded data removed]",
      "text/plain": [
       "<Figure size 432x288 with 1 Axes>"
      ]
     },
     "metadata": {
      "needs_background": "light"
     },
     "output_type": "display_data"
    }
   ],
   "source": [
    "plt.plot(range(1, 11), history.history['acc'], 'bo', label='Train acc')\n",
    "plt.plot(range(1, 11), history.history['val_acc'], 'b', label='Test acc')\n",
    "plt.xlabel('Эпоха')\n",
    "plt.ylabel('acc')\n",
    "plt.legend()\n",
    "plt.show()"
   ]
  },
  {
   "cell_type": "code",
   "execution_count": 20,
   "id": "e1b9c766",
   "metadata": {},
   "outputs": [],
   "source": [
    "model.save('model_1.0.h5')"
   ]
  },
  {
   "cell_type": "code",
   "execution_count": null,
   "id": "684ccebb",
   "metadata": {},
   "outputs": [],
   "source": []
  }
 ],
 "metadata": {
  "kernelspec": {
   "display_name": "Python 3",
   "language": "python",
   "name": "python3"
  },
  "language_info": {
   "codemirror_mode": {
    "name": "ipython",
    "version": 3
   },
   "file_extension": ".py",
   "mimetype": "text/x-python",
   "name": "python",
   "nbconvert_exporter": "python",
   "pygments_lexer": "ipython3",
   "version": "3.8.8"
  }
 },
 "nbformat": 4,
 "nbformat_minor": 5
}
