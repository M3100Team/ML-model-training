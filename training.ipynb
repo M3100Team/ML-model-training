{
 "cells": [
  {
   "cell_type": "code",
   "execution_count": 1,
   "id": "2be1df72",
   "metadata": {},
   "outputs": [],
   "source": [
    "import numpy as np\n",
    "import matplotlib.pyplot as plt\n",
    "from PIL import Image\n",
    "import os\n",
    "from tensorflow.keras.preprocessing.image import ImageDataGenerator\n",
    "from tensorflow.keras import layers, models, optimizers"
   ]
  },
  {
   "cell_type": "markdown",
   "id": "487d11ba",
   "metadata": {},
   "source": [
    "# Векторизируем сгенерированные изображения. Будем сжимать их до размера (200, 200) и чернобелого цвета:"
   ]
  },
  {
   "cell_type": "code",
   "execution_count": 2,
   "id": "2b880f46",
   "metadata": {},
   "outputs": [],
   "source": [
    "os.chdir('dataset_false')\n",
    "for i in os.listdir():\n",
    "    img = Image.open(i)\n",
    "    img = img.resize((200, 200))\n",
    "    arr = np.asarray(img, dtype='uint8')\n",
    "    k = np.array([[[0.2989, 0.587, 0.114]]])\n",
    "    sums = np.round(np.sum(arr*k, axis=2)).astype(np.uint8)\n",
    "    sums = sums.reshape((1, 200, 200))\n",
    "    if i != 'im0.png':\n",
    "        data_false = np.append(data_false, sums, axis=0)\n",
    "    else:\n",
    "        data_false = np.array(sums)\n",
    "os.chdir('..')"
   ]
  },
  {
   "cell_type": "code",
   "execution_count": 3,
   "id": "52a29dc7",
   "metadata": {},
   "outputs": [
    {
     "data": {
      "text/plain": [
       "(4999, 200, 200)"
      ]
     },
     "execution_count": 3,
     "metadata": {},
     "output_type": "execute_result"
    }
   ],
   "source": [
    "data_false.shape"
   ]
  },
  {
   "cell_type": "code",
   "execution_count": 4,
   "id": "8cc59bca",
   "metadata": {},
   "outputs": [],
   "source": [
    "os.chdir('dataset_true')\n",
    "for i in os.listdir():\n",
    "    img = Image.open(i)\n",
    "    img = img.resize((200, 200))\n",
    "    arr = np.asarray(img, dtype='uint8')\n",
    "    k = np.array([[[0.2989, 0.587, 0.114]]])\n",
    "    sums = np.round(np.sum(arr*k, axis=2)).astype(np.uint8)\n",
    "    sums = sums.reshape((1, 200, 200))\n",
    "    if i != '0.png':\n",
    "        data_true = np.append(data_true, sums, axis=0)\n",
    "    else:\n",
    "        data_true = np.array(sums)\n",
    "os.chdir('..')"
   ]
  },
  {
   "cell_type": "code",
   "execution_count": 5,
   "id": "c4920734",
   "metadata": {},
   "outputs": [
    {
     "data": {
      "text/plain": [
       "(5000, 200, 200)"
      ]
     },
     "execution_count": 5,
     "metadata": {},
     "output_type": "execute_result"
    }
   ],
   "source": [
    "data_true.shape"
   ]
  },
  {
   "cell_type": "code",
   "execution_count": 14,
   "id": "c7c5892f",
   "metadata": {},
   "outputs": [],
   "source": [
    "os.chdir('test_true')\n",
    "first = False\n",
    "for i in os.listdir():\n",
    "    img = Image.open(i)\n",
    "    img = img.convert('RGB')\n",
    "    img = img.resize((200, 200))\n",
    "    arr = np.asarray(img, dtype='uint8')\n",
    "    k = np.array([[[0.2989, 0.587, 0.114]]])\n",
    "    sums = np.round(np.sum(arr*k, axis=2)).astype(np.uint8)\n",
    "    sums = sums.reshape((1, 200, 200))\n",
    "    if first:\n",
    "        test_true = np.append(test_true, sums, axis=0)\n",
    "    else:\n",
    "        first = True\n",
    "        test_true = np.array(sums)\n",
    "os.chdir('..')"
   ]
  },
  {
   "cell_type": "code",
   "execution_count": 16,
   "id": "2e752483",
   "metadata": {},
   "outputs": [
    {
     "data": {
      "text/plain": [
       "(173, 200, 200)"
      ]
     },
     "execution_count": 16,
     "metadata": {},
     "output_type": "execute_result"
    }
   ],
   "source": [
    "test_true.shape"
   ]
  },
  {
   "cell_type": "code",
   "execution_count": 17,
   "id": "50c6e1af",
   "metadata": {},
   "outputs": [],
   "source": [
    "os.chdir('test_false_hard')\n",
    "first = False\n",
    "for i in os.listdir():\n",
    "    img = Image.open(i)\n",
    "    img = img.convert('RGB')\n",
    "    img = img.resize((200, 200))\n",
    "    arr = np.asarray(img, dtype='uint8')\n",
    "    k = np.array([[[0.2989, 0.587, 0.114]]])\n",
    "    sums = np.round(np.sum(arr*k, axis=2)).astype(np.uint8)\n",
    "    sums = sums.reshape((1, 200, 200))\n",
    "    if first:\n",
    "        test_hard_false = np.append(test_hard_false, sums, axis=0)\n",
    "    else:\n",
    "        first = True\n",
    "        test_hard_false = np.array(sums)\n",
    "os.chdir('..')"
   ]
  },
  {
   "cell_type": "code",
   "execution_count": 18,
   "id": "9f75f87e",
   "metadata": {},
   "outputs": [
    {
     "data": {
      "text/plain": [
       "(42, 200, 200)"
      ]
     },
     "execution_count": 18,
     "metadata": {},
     "output_type": "execute_result"
    }
   ],
   "source": [
    "test_hard_false.shape"
   ]
  },
  {
   "cell_type": "code",
   "execution_count": 19,
   "id": "dd415d33",
   "metadata": {},
   "outputs": [],
   "source": [
    "os.chdir('test_false_easy')\n",
    "first = False\n",
    "for i in os.listdir():\n",
    "    img = Image.open(i)\n",
    "    img = img.convert('RGB')\n",
    "    img = img.resize((200, 200))\n",
    "    arr = np.asarray(img, dtype='uint8')\n",
    "    k = np.array([[[0.2989, 0.587, 0.114]]])\n",
    "    sums = np.round(np.sum(arr*k, axis=2)).astype(np.uint8)\n",
    "    sums = sums.reshape((1, 200, 200))\n",
    "    if first:\n",
    "        test_easy_false = np.append(test_easy_false, sums, axis=0)\n",
    "    else:\n",
    "        first = True\n",
    "        test_easy_false = np.array(sums)\n",
    "os.chdir('..')"
   ]
  },
  {
   "cell_type": "code",
   "execution_count": 20,
   "id": "5bde9776",
   "metadata": {},
   "outputs": [
    {
     "data": {
      "text/plain": [
       "(80, 200, 200)"
      ]
     },
     "execution_count": 20,
     "metadata": {},
     "output_type": "execute_result"
    }
   ],
   "source": [
    "test_easy_false.shape"
   ]
  },
  {
   "cell_type": "markdown",
   "id": "669f9c5c",
   "metadata": {},
   "source": [
    "# Смёрджим, разметим и перемешаем данные:"
   ]
  },
  {
   "cell_type": "code",
   "execution_count": 21,
   "id": "724dab72",
   "metadata": {},
   "outputs": [],
   "source": [
    "data_x_train = np.concatenate((data_false, data_true))\n",
    "data_y_train = np.concatenate((np.zeros(4999), np.ones(5000))).astype('int32')\n",
    "data_x_test = np.concatenate((test_true, test_hard_false, test_easy_false))\n",
    "data_y_test = np.concatenate((np.ones(test_true.shape[0]), np.zeros(test_hard_false.shape[0] + test_easy_false.shape[0]))).astype('int32')"
   ]
  },
  {
   "cell_type": "code",
   "execution_count": 22,
   "id": "96b5f52d",
   "metadata": {},
   "outputs": [],
   "source": [
    "all_data_train = np.concatenate((data_x_train.reshape(9999, 40000), data_y_train.reshape(9999, 1)), axis=1)\n",
    "all_data_test = np.concatenate((data_x_test.reshape(data_x_test.shape[0], 40000), \n",
    "                                data_y_test.reshape(data_y_test.shape[0], 1)), axis=1)"
   ]
  },
  {
   "cell_type": "code",
   "execution_count": 23,
   "id": "0f0e9594",
   "metadata": {},
   "outputs": [],
   "source": [
    "np.random.shuffle(all_data_train)\n",
    "np.random.shuffle(all_data_test)"
   ]
  },
  {
   "cell_type": "code",
   "execution_count": 24,
   "id": "c6ec3b7e",
   "metadata": {},
   "outputs": [],
   "source": [
    "data_x_train = all_data_train[:, :-1].reshape(9999, 200, 200)\n",
    "data_y_train = all_data_train[:, -1]\n",
    "data_x_test = all_data_test[:, :-1].reshape(data_x_test.shape[0], 200, 200)\n",
    "data_y_test = all_data_test[:, -1]"
   ]
  },
  {
   "cell_type": "code",
   "execution_count": 25,
   "id": "d7fb1c14",
   "metadata": {},
   "outputs": [
    {
     "data": {
      "text/plain": [
       "(9999, 200, 200)"
      ]
     },
     "execution_count": 25,
     "metadata": {},
     "output_type": "execute_result"
    }
   ],
   "source": [
    "data_x_train.shape"
   ]
  },
  {
   "cell_type": "code",
   "execution_count": 26,
   "id": "c5957499",
   "metadata": {},
   "outputs": [
    {
     "data": {
      "text/plain": [
       "(295, 200, 200)"
      ]
     },
     "execution_count": 26,
     "metadata": {},
     "output_type": "execute_result"
    }
   ],
   "source": [
    "data_x_test.shape"
   ]
  },
  {
   "cell_type": "markdown",
   "id": "f9bc46c5",
   "metadata": {},
   "source": [
    "# Модель:"
   ]
  },
  {
   "cell_type": "code",
   "execution_count": 30,
   "id": "36c3d2b8",
   "metadata": {},
   "outputs": [],
   "source": [
    "model = models.Sequential()\n",
    "model.add(layers.Conv2D(32, (3, 3), activation='relu', input_shape=(200, 200, 1)))\n",
    "model.add(layers.MaxPooling2D((2, 2)))\n",
    "model.add(layers.Conv2D(64, (3, 3), activation='relu'))\n",
    "model.add(layers.MaxPooling2D((2, 2)))\n",
    "model.add(layers.Conv2D(128, (3, 3), activation='relu'))\n",
    "model.add(layers.MaxPooling2D((2, 2)))\n",
    "model.add(layers.Conv2D(128, (3, 3), activation='relu'))\n",
    "model.add(layers.MaxPooling2D((2, 2)))\n",
    "model.add(layers.Flatten())\n",
    "model.add(layers.Dropout(0.5))\n",
    "model.add(layers.Dense(512, activation='relu'))\n",
    "model.add(layers.Dense(1, activation='sigmoid'))\n",
    "model.compile(loss='binary_crossentropy', optimizer=optimizers.RMSprop(learning_rate=0.0001), metrics=['binary_accuracy'])"
   ]
  },
  {
   "cell_type": "markdown",
   "id": "f7bf24e8",
   "metadata": {},
   "source": [
    "# Будем обучать модель на сгенерированных данных, а тестировать на собранных реальных.\n",
    "# Обучение:"
   ]
  },
  {
   "cell_type": "code",
   "execution_count": 34,
   "id": "74edd9b0",
   "metadata": {},
   "outputs": [
    {
     "name": "stdout",
     "output_type": "stream",
     "text": [
      "Epoch 1/25\n",
      "20/20 [==============================] - 933s 47s/step - loss: 9.3558 - binary_accuracy: 0.7768 - val_loss: 0.7005 - val_binary_accuracy: 0.8847\n",
      "Epoch 2/25\n",
      "20/20 [==============================] - 1061s 53s/step - loss: 1.5448 - binary_accuracy: 0.8432 - val_loss: 0.2971 - val_binary_accuracy: 0.9153\n",
      "Epoch 3/25\n",
      "20/20 [==============================] - 1034s 52s/step - loss: 0.0832 - binary_accuracy: 0.9720 - val_loss: 1.7109 - val_binary_accuracy: 0.8102\n",
      "Epoch 4/25\n",
      "20/20 [==============================] - 1079s 54s/step - loss: 0.0606 - binary_accuracy: 0.9852 - val_loss: 0.3004 - val_binary_accuracy: 0.9322\n",
      "Epoch 5/25\n",
      "20/20 [==============================] - 1102s 55s/step - loss: 1.2744 - binary_accuracy: 0.9097 - val_loss: 0.2058 - val_binary_accuracy: 0.9220\n",
      "Epoch 6/25\n",
      "20/20 [==============================] - 1111s 55s/step - loss: 0.0395 - binary_accuracy: 0.9872 - val_loss: 0.1866 - val_binary_accuracy: 0.9356\n",
      "Epoch 7/25\n",
      "20/20 [==============================] - 1087s 54s/step - loss: 0.1227 - binary_accuracy: 0.9668 - val_loss: 0.1806 - val_binary_accuracy: 0.9322\n",
      "Epoch 8/25\n",
      "20/20 [==============================] - 1086s 54s/step - loss: 0.0130 - binary_accuracy: 0.9954 - val_loss: 0.2833 - val_binary_accuracy: 0.9322\n",
      "Epoch 9/25\n",
      "20/20 [==============================] - 1098s 55s/step - loss: 0.0200 - binary_accuracy: 0.9952 - val_loss: 0.1895 - val_binary_accuracy: 0.9424\n",
      "Epoch 10/25\n",
      "20/20 [==============================] - 1096s 55s/step - loss: 0.1948 - binary_accuracy: 0.9600 - val_loss: 0.3776 - val_binary_accuracy: 0.9119\n",
      "Epoch 11/25\n",
      "20/20 [==============================] - 1091s 55s/step - loss: 0.0091 - binary_accuracy: 0.9970 - val_loss: 0.1663 - val_binary_accuracy: 0.9492\n",
      "Epoch 12/25\n",
      "20/20 [==============================] - 1090s 55s/step - loss: 0.0073 - binary_accuracy: 0.9982 - val_loss: 0.1681 - val_binary_accuracy: 0.9492\n",
      "Epoch 13/25\n",
      "20/20 [==============================] - 1088s 54s/step - loss: 0.3518 - binary_accuracy: 0.9581 - val_loss: 0.1472 - val_binary_accuracy: 0.9492\n",
      "Epoch 14/25\n",
      "20/20 [==============================] - 1098s 55s/step - loss: 0.0061 - binary_accuracy: 0.9981 - val_loss: 1.1080 - val_binary_accuracy: 0.8915\n",
      "Epoch 15/25\n",
      "20/20 [==============================] - 1084s 55s/step - loss: 0.0109 - binary_accuracy: 0.9975 - val_loss: 0.1839 - val_binary_accuracy: 0.9559\n",
      "Epoch 16/25\n",
      "20/20 [==============================] - 1084s 54s/step - loss: 0.0069 - binary_accuracy: 0.9988 - val_loss: 0.2231 - val_binary_accuracy: 0.9525\n",
      "Epoch 17/25\n",
      "20/20 [==============================] - 1104s 55s/step - loss: 0.3790 - binary_accuracy: 0.9649 - val_loss: 0.3175 - val_binary_accuracy: 0.9288\n",
      "Epoch 18/25\n",
      "20/20 [==============================] - 1087s 54s/step - loss: 0.0051 - binary_accuracy: 0.9988 - val_loss: 0.2554 - val_binary_accuracy: 0.9458\n",
      "Epoch 19/25\n",
      "20/20 [==============================] - 1076s 54s/step - loss: 0.0029 - binary_accuracy: 0.9995 - val_loss: 0.2901 - val_binary_accuracy: 0.9525\n",
      "Epoch 20/25\n",
      "20/20 [==============================] - 1071s 53s/step - loss: 9.3679e-05 - binary_accuracy: 1.0000 - val_loss: 0.3457 - val_binary_accuracy: 0.9525\n",
      "Epoch 21/25\n",
      "20/20 [==============================] - 1041s 52s/step - loss: 9.2949e-06 - binary_accuracy: 1.0000 - val_loss: 0.3910 - val_binary_accuracy: 0.9492\n",
      "Epoch 22/25\n",
      "20/20 [==============================] - 5448s 284s/step - loss: 1.0452e-05 - binary_accuracy: 1.0000 - val_loss: 0.4271 - val_binary_accuracy: 0.9525\n",
      "Epoch 23/25\n",
      "20/20 [==============================] - 894s 45s/step - loss: 6.3622e-07 - binary_accuracy: 1.0000 - val_loss: 0.4528 - val_binary_accuracy: 0.9525\n",
      "Epoch 24/25\n",
      "20/20 [==============================] - 920s 46s/step - loss: 6.5441 - binary_accuracy: 0.9758 - val_loss: 0.1827 - val_binary_accuracy: 0.9458\n",
      "Epoch 25/25\n",
      "20/20 [==============================] - 1010s 51s/step - loss: 8.1591e-04 - binary_accuracy: 0.9997 - val_loss: 0.2334 - val_binary_accuracy: 0.9458\n"
     ]
    }
   ],
   "source": [
    "history = model.fit(data_x_train, data_y_train, epochs=25, validation_data=(data_x_test, data_y_test), batch_size=512)"
   ]
  },
  {
   "cell_type": "code",
   "execution_count": 39,
   "id": "7351b11b",
   "metadata": {},
   "outputs": [
    {
     "data": {
      "image/png": "[encoded data removed]",
      "text/plain": [
       "<Figure size 432x288 with 1 Axes>"
      ]
     },
     "metadata": {
      "needs_background": "light"
     },
     "output_type": "display_data"
    }
   ],
   "source": [
    "plt.plot(range(1, 26), history.history['binary_accuracy'], 'b', c='red', label='Train acc')\n",
    "plt.plot(range(1, 26), history.history['val_binary_accuracy'], 'b', label='Test acc')\n",
    "plt.xlabel('Эпоха')\n",
    "plt.ylabel('acc')\n",
    "plt.legend()\n",
    "plt.show()"
   ]
  },
  {
   "cell_type": "code",
   "execution_count": 41,
   "id": "7c5ab5bd",
   "metadata": {},
   "outputs": [
    {
     "data": {
      "image/png": "[encoded data removed]",
      "text/plain": [
       "<Figure size 432x288 with 1 Axes>"
      ]
     },
     "metadata": {
      "needs_background": "light"
     },
     "output_type": "display_data"
    }
   ],
   "source": [
    "plt.plot(range(1, 26), history.history['loss'], 'b', c='red', label='Train loss')\n",
    "plt.plot(range(1, 26), history.history['val_loss'], 'b', label='Test loss')\n",
    "plt.xlabel('Эпоха')\n",
    "plt.ylabel('acc')\n",
    "plt.legend()\n",
    "plt.show()"
   ]
  },
  {
   "cell_type": "markdown",
   "id": "ac19d7db",
   "metadata": {},
   "source": [
    "# Скорее всего более высокая точность не достигается из-за однообразия сгенерированных изображений. Попробуем расширить датасет."
   ]
  },
  {
   "cell_type": "code",
   "execution_count": null,
   "id": "72f6c70d",
   "metadata": {},
   "outputs": [],
   "source": []
  }
 ],
 "metadata": {
  "kernelspec": {
   "display_name": "Python 3",
   "language": "python",
   "name": "python3"
  },
  "language_info": {
   "codemirror_mode": {
    "name": "ipython",
    "version": 3
   },
   "file_extension": ".py",
   "mimetype": "text/x-python",
   "name": "python",
   "nbconvert_exporter": "python",
   "pygments_lexer": "ipython3",
   "version": "3.8.8"
  }
 },
 "nbformat": 4,
 "nbformat_minor": 5
}
